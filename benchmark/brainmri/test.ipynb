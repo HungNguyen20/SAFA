{
 "cells": [
  {
   "cell_type": "code",
   "execution_count": 2,
   "metadata": {},
   "outputs": [],
   "source": [
    "from torchvision import datasets, transforms\n",
    "import torchvision\n",
    "from torch.utils.data import random_split\n",
    "import os, torch"
   ]
  },
  {
   "cell_type": "code",
   "execution_count": 3,
   "metadata": {},
   "outputs": [],
   "source": [
    "data_folder=\"../../../datasets/data/brain-tumor-mri-dataset\"\n",
    "transform= transforms.Compose([\n",
    "    transforms.Resize(size= (128,128)),\n",
    "    transforms.ToTensor(),\n",
    "])\n",
    "train_dataset = datasets.ImageFolder(root=os.path.join(data_folder, \"Training\"), transform=transform, target_transform = None)\n",
    "test_dataset = datasets.ImageFolder(root=os.path.join(data_folder, \"Testing\"), transform=transform)"
   ]
  },
  {
   "cell_type": "code",
   "execution_count": 4,
   "metadata": {},
   "outputs": [
    {
     "data": {
      "text/plain": [
       "Dataset ImageFolder\n",
       "    Number of datapoints: 5712\n",
       "    Root location: ../../../datasets/data/brain-tumor-mri-dataset/Training\n",
       "    StandardTransform\n",
       "Transform: Compose(\n",
       "               Resize(size=(128, 128), interpolation=bilinear, max_size=None, antialias=None)\n",
       "               ToTensor()\n",
       "           )"
      ]
     },
     "metadata": {},
     "output_type": "display_data"
    }
   ],
   "source": [
    "display(train_dataset)"
   ]
  },
  {
   "cell_type": "code",
   "execution_count": 5,
   "metadata": {},
   "outputs": [
    {
     "data": {
      "text/plain": [
       "Dataset ImageFolder\n",
       "    Number of datapoints: 1311\n",
       "    Root location: ../../../datasets/data/brain-tumor-mri-dataset/Testing\n",
       "    StandardTransform\n",
       "Transform: Compose(\n",
       "               Resize(size=(128, 128), interpolation=bilinear, max_size=None, antialias=None)\n",
       "               ToTensor()\n",
       "           )"
      ]
     },
     "metadata": {},
     "output_type": "display_data"
    }
   ],
   "source": [
    "display(test_dataset)"
   ]
  },
  {
   "cell_type": "code",
   "execution_count": 6,
   "metadata": {},
   "outputs": [
    {
     "name": "stdout",
     "output_type": "stream",
     "text": [
      "['glioma', 'meningioma', 'notumor', 'pituitary']\n",
      "4\n"
     ]
    }
   ],
   "source": [
    "class_names=train_dataset.classes\n",
    "print(class_names)\n",
    "print(len(class_names))"
   ]
  },
  {
   "cell_type": "code",
   "execution_count": 7,
   "metadata": {},
   "outputs": [
    {
     "name": "stdout",
     "output_type": "stream",
     "text": [
      "['glioma', 'meningioma', 'notumor', 'pituitary']\n",
      "4\n"
     ]
    }
   ],
   "source": [
    "class_names=test_dataset.classes\n",
    "print(class_names)\n",
    "print(len(class_names))"
   ]
  },
  {
   "cell_type": "code",
   "execution_count": 23,
   "metadata": {},
   "outputs": [],
   "source": [
    "import torch.nn as nn\n",
    "from torchinfo import summary\n",
    "\n",
    "feature_extractor = nn.Sequential(\n",
    "    nn.Conv2d(3, 32, (4 ,4)),\n",
    "    nn.ReLU(True),\n",
    "    nn.MaxPool2d((2,2)),\n",
    "    nn.Conv2d(32, 32, (4, 4)),\n",
    "    nn.ReLU(True),\n",
    "    nn.MaxPool2d((2,2)),\n",
    "    nn.Conv2d(32, 64, (4, 4)),\n",
    "    nn.ReLU(True),\n",
    "    nn.MaxPool2d((2,2)),\n",
    "    nn.Flatten(),\n",
    "    nn.Linear(16384, 512),\n",
    "    nn.ReLU(),\n",
    "    nn.Linear(512, 256),\n",
    "    nn.ReLU(),\n",
    "    nn.Linear(256, 4),\n",
    ")"
   ]
  },
  {
   "cell_type": "code",
   "execution_count": 24,
   "metadata": {},
   "outputs": [
    {
     "data": {
      "text/plain": [
       "==========================================================================================\n",
       "Layer (type:depth-idx)                   Output Shape              Param #\n",
       "==========================================================================================\n",
       "Sequential                               [64, 4]                   --\n",
       "├─Conv2d: 1-1                            [64, 32, 147, 147]        1,568\n",
       "├─ReLU: 1-2                              [64, 32, 147, 147]        --\n",
       "├─MaxPool2d: 1-3                         [64, 32, 73, 73]          --\n",
       "├─Conv2d: 1-4                            [64, 32, 70, 70]          16,416\n",
       "├─ReLU: 1-5                              [64, 32, 70, 70]          --\n",
       "├─MaxPool2d: 1-6                         [64, 32, 35, 35]          --\n",
       "├─Conv2d: 1-7                            [64, 64, 32, 32]          32,832\n",
       "├─ReLU: 1-8                              [64, 64, 32, 32]          --\n",
       "├─MaxPool2d: 1-9                         [64, 64, 16, 16]          --\n",
       "├─Flatten: 1-10                          [64, 16384]               --\n",
       "├─Linear: 1-11                           [64, 512]                 8,389,120\n",
       "├─ReLU: 1-12                             [64, 512]                 --\n",
       "├─Linear: 1-13                           [64, 256]                 131,328\n",
       "├─ReLU: 1-14                             [64, 256]                 --\n",
       "├─Linear: 1-15                           [64, 4]                   1,028\n",
       "==========================================================================================\n",
       "Total params: 8,572,292\n",
       "Trainable params: 8,572,292\n",
       "Non-trainable params: 0\n",
       "Total mult-adds (G): 10.01\n",
       "==========================================================================================\n",
       "Input size (MB): 17.28\n",
       "Forward/backward pass size (MB): 468.27\n",
       "Params size (MB): 34.29\n",
       "Estimated Total Size (MB): 519.84\n",
       "=========================================================================================="
      ]
     },
     "execution_count": 24,
     "metadata": {},
     "output_type": "execute_result"
    }
   ],
   "source": [
    "summary(feature_extractor, input_size=(64, 3, 150, 150))"
   ]
  },
  {
   "cell_type": "code",
   "execution_count": null,
   "metadata": {},
   "outputs": [],
   "source": []
  }
 ],
 "metadata": {
  "kernelspec": {
   "display_name": "longnd",
   "language": "python",
   "name": "python3"
  },
  "language_info": {
   "codemirror_mode": {
    "name": "ipython",
    "version": 3
   },
   "file_extension": ".py",
   "mimetype": "text/x-python",
   "name": "python",
   "nbconvert_exporter": "python",
   "pygments_lexer": "ipython3",
   "version": "3.10.6"
  },
  "orig_nbformat": 4
 },
 "nbformat": 4,
 "nbformat_minor": 2
}
